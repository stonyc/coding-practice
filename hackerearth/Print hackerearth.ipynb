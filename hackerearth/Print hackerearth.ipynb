{
 "cells": [
  {
   "cell_type": "markdown",
   "metadata": {},
   "source": [
    "https://www.hackerearth.com/practice/basic-programming/implementation/basics-of-implementation/practice-problems/algorithm/print-hackerearth/"
   ]
  },
  {
   "cell_type": "code",
   "execution_count": null,
   "metadata": {},
   "outputs": [],
   "source": [
    "'''\n",
    "# Sample code to perform I/O:\n",
    "\n",
    "name = input()                  # Reading input from STDIN\n",
    "print('Hi, %s.' % name)         # Writing output to STDOUT\n",
    "\n",
    "# Warning: Printing unwanted or ill-formatted data to output will cause the test cases to fail\n",
    "'''\n",
    "\n",
    "L = int(input())\n",
    "chars = str(input())\n",
    "\n",
    "def count_letters(word):\n",
    "    unique = list(set(list(word)))\n",
    "    counts = dict(zip(unique, [word.count(letter) for letter in unique]))\n",
    "    return counts\n",
    "\n",
    "if len(chars) >= len(\"hackerearth\"):\n",
    "    # Get the number of letters required to spell hackerearth:\n",
    "    hacker = count_letters(\"hackerearth\")\n",
    "    # Get the number of letters in the input:\n",
    "    test = count_letters(list(chars))\n",
    "    iters = [test[k]//hacker[k] for k in list(hacker)]\n",
    "    print(min(iters))\n",
    "else:\n",
    "    print(0)\n"
   ]
  }
 ],
 "metadata": {
  "kernelspec": {
   "display_name": "Python 3",
   "language": "python",
   "name": "python3"
  },
  "language_info": {
   "codemirror_mode": {
    "name": "ipython",
    "version": 3
   },
   "file_extension": ".py",
   "mimetype": "text/x-python",
   "name": "python",
   "nbconvert_exporter": "python",
   "pygments_lexer": "ipython3",
   "version": "3.7.7"
  }
 },
 "nbformat": 4,
 "nbformat_minor": 4
}
