{
 "cells": [
  {
   "cell_type": "markdown",
   "metadata": {},
   "source": [
    "https://www.hackerearth.com/practice/basic-programming/operators/basics-of-operators/practice-problems/algorithm/going-to-office-e2ef3feb/"
   ]
  },
  {
   "cell_type": "code",
   "execution_count": null,
   "metadata": {},
   "outputs": [],
   "source": [
    "'''\n",
    "# Sample code to perform I/O:\n",
    "\n",
    "name = input()                  # Reading input from STDIN\n",
    "print('Hi, %s.' % name)         # Writing output to STDOUT\n",
    "\n",
    "# Warning: Printing unwanted or ill-formatted data to output will cause the test cases to fail\n",
    "'''\n",
    "\n",
    "# Write your code here\n",
    "def solve(D, Oc, Of, Od, Cs, Cb, Cm, Cd):\n",
    "    Ot = Oc if D <= Of else Oc + (D-Of)*Od\n",
    "    Ct = Cb + Cm*(D/Cs) + (D*Cd)\n",
    "    print(\"Online Taxi\" if Ot <= Ct else \"Classic Taxi\")\n",
    "\n",
    "D = int(input())\n",
    "Oc, Of, Od = map(int, input().split(\" \"))\n",
    "Cs, Cb, Cm, Cd = map(int, input().split(\" \"))\n",
    "\n",
    "solve(D, Oc, Of, Od, Cs, Cb, Cm, Cd)\n"
   ]
  }
 ],
 "metadata": {
  "kernelspec": {
   "display_name": "Python 3",
   "language": "python",
   "name": "python3"
  },
  "language_info": {
   "codemirror_mode": {
    "name": "ipython",
    "version": 3
   },
   "file_extension": ".py",
   "mimetype": "text/x-python",
   "name": "python",
   "nbconvert_exporter": "python",
   "pygments_lexer": "ipython3",
   "version": "3.7.7"
  }
 },
 "nbformat": 4,
 "nbformat_minor": 4
}
