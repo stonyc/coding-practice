{
 "cells": [
  {
   "cell_type": "markdown",
   "metadata": {},
   "source": [
    "Minimum Amount Problem"
   ]
  },
  {
   "cell_type": "code",
   "execution_count": null,
   "metadata": {},
   "outputs": [],
   "source": [
    "# Find the minimum:\n",
    "def solve(S,cnt1,cnt2,cnt3,cost1,cost2,cost3):\n",
    "    #your code goes here \n",
    "    def calculate_energy(n1, n2, n3):\n",
    "        return (n1*2 + n2*3 + n3*5)\n",
    "    def calculate_cost(n1, n2, n3):\n",
    "        return sum([m * n for m, n in zip([n1,n2,n3], costs)])\n",
    "    # Put inputs into lists:\n",
    "    counts = [cnt1, cnt2, cnt3]\n",
    "    costs = [cost1, cost2, cost3]\n",
    "    pass_costs = []\n",
    "    for i in range(counts[0]+1):\n",
    "        for j in range(counts[1]+1):\n",
    "            for k in range(counts[2]+1):\n",
    "                E = calculate_energy(i, j, k)\n",
    "                if E == S:\n",
    "                    pass_costs.append(calculate_cost(i, j, k))\n",
    "    try:\n",
    "        lowest_cost_index = pass_costs.index(min(pass_costs))\n",
    "        return pass_costs[lowest_cost_index]\n",
    "    except IndexError:\n",
    "        return -1\n",
    "\n",
    "S=int(input())\n",
    "cnt1,cnt2,cnt3=map(int,input().split(' '))\n",
    "cost1,cost2,cost3=map(int,input().split(' '))\n",
    "print(solve(S,cnt1,cnt2,cnt3,cost1,cost2,cost3))\n"
   ]
  }
 ],
 "metadata": {
  "kernelspec": {
   "display_name": "Python 3",
   "language": "python",
   "name": "python3"
  },
  "language_info": {
   "codemirror_mode": {
    "name": "ipython",
    "version": 3
   },
   "file_extension": ".py",
   "mimetype": "text/x-python",
   "name": "python",
   "nbconvert_exporter": "python",
   "pygments_lexer": "ipython3",
   "version": "3.7.7"
  }
 },
 "nbformat": 4,
 "nbformat_minor": 4
}
