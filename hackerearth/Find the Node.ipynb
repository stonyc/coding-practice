{
 "cells": [
  {
   "cell_type": "markdown",
   "metadata": {},
   "source": [
    "Find the Node"
   ]
  },
  {
   "cell_type": "code",
   "execution_count": null,
   "metadata": {},
   "outputs": [],
   "source": [
    "# Find the node:\n",
    "def Solve(N, B):\n",
    "    nodes = dict(zip(range(1,N+1), B))\n",
    "    edges = []\n",
    "    for node in nodes:\n",
    "        count = 0\n",
    "        start = node\n",
    "        current = node\n",
    "        for i in range(N):\n",
    "            if current == start and i > 0:\n",
    "                break\n",
    "            else:\n",
    "                count += 1\n",
    "                current = nodes[current]\n",
    "        edges.append(count)\n",
    "    return edges.index(max(edges)) + 1\n",
    "\n",
    "N = 7\n",
    "for i in range(100):\n",
    "    lst = list(range(1,N+1))\n",
    "    random.shuffle(lst)\n",
    "    Solve(N, lst)"
   ]
  }
 ],
 "metadata": {
  "kernelspec": {
   "display_name": "Python 3",
   "language": "python",
   "name": "python3"
  },
  "language_info": {
   "codemirror_mode": {
    "name": "ipython",
    "version": 3
   },
   "file_extension": ".py",
   "mimetype": "text/x-python",
   "name": "python",
   "nbconvert_exporter": "python",
   "pygments_lexer": "ipython3",
   "version": "3.7.7"
  }
 },
 "nbformat": 4,
 "nbformat_minor": 4
}
