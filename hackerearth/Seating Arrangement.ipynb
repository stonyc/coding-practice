{
 "cells": [
  {
   "cell_type": "markdown",
   "metadata": {},
   "source": [
    "https://www.hackerearth.com/practice/basic-programming/input-output/basics-of-input-output/practice-problems/algorithm/seating-arrangement-1/"
   ]
  },
  {
   "cell_type": "code",
   "execution_count": null,
   "metadata": {},
   "outputs": [],
   "source": [
    "'''\n",
    "# Sample code to perform I/O:\n",
    "\n",
    "name = input()                  # Reading input from STDIN\n",
    "print('Hi, %s.' % name)         # Writing output to STDOUT\n",
    "\n",
    "# Warning: Printing unwanted or ill-formatted data to output will cause the test cases to fail\n",
    "'''\n",
    "\n",
    "# Write your code here\n",
    "def get_seat_type(N):\n",
    "    modulo = (N % 108) % 12\n",
    "    if modulo in [0,1,6,7]:\n",
    "        return \"WS\"\n",
    "    elif modulo in [2,5,8,11]:\n",
    "        return \"MS\"\n",
    "    else:\n",
    "        return \"AS\"\n",
    "\n",
    "def get_facing_seat(N):\n",
    "    modulo = N % 12\n",
    "    if modulo > 0:\n",
    "        pad = 12 - 2*modulo + 1\n",
    "    else:\n",
    "        pad = -11\n",
    "    return N + pad\n",
    "\n",
    "T = int(input())\n",
    "for i in range(T):\n",
    "    seat = int(input())\n",
    "    facing_seat = get_facing_seat(seat)\n",
    "    seat_type = get_seat_type(facing_seat)\n",
    "    print(str(facing_seat), seat_type)"
   ]
  }
 ],
 "metadata": {
  "kernelspec": {
   "display_name": "Python 3",
   "language": "python",
   "name": "python3"
  },
  "language_info": {
   "codemirror_mode": {
    "name": "ipython",
    "version": 3
   },
   "file_extension": ".py",
   "mimetype": "text/x-python",
   "name": "python",
   "nbconvert_exporter": "python",
   "pygments_lexer": "ipython3",
   "version": "3.7.7"
  }
 },
 "nbformat": 4,
 "nbformat_minor": 4
}
