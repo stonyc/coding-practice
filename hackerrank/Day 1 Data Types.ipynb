{
 "cells": [
  {
   "cell_type": "markdown",
   "metadata": {},
   "source": [
    "https://www.hackerrank.com/challenges/30-data-types/problem"
   ]
  },
  {
   "cell_type": "code",
   "execution_count": null,
   "metadata": {},
   "outputs": [],
   "source": [
    "i = 4\n",
    "d = 4.0\n",
    "s = 'HackerRank '\n",
    "# Declare second integer, double, and String variables.\n",
    "ii = int()\n",
    "dd = float()\n",
    "ss = str()\n",
    "# Read and save an integer, double, and String to your variables.\n",
    "ii = int(input())\n",
    "dd = float(input())\n",
    "ss = str(input())\n",
    "# Print the sum of both integer variables on a new line.\n",
    "print(f\"{i + ii}\")\n",
    "# Print the sum of the double variables on a new line.\n",
    "print(f\"{d + dd:.1f}\")\n",
    "# Concatenate and print the String variables on a new line\n",
    "# The 's' variable above should be printed first.\n",
    "print(f\"{s + ss}\")"
   ]
  }
 ],
 "metadata": {
  "kernelspec": {
   "display_name": "Python 3",
   "language": "python",
   "name": "python3"
  },
  "language_info": {
   "codemirror_mode": {
    "name": "ipython",
    "version": 3
   },
   "file_extension": ".py",
   "mimetype": "text/x-python",
   "name": "python",
   "nbconvert_exporter": "python",
   "pygments_lexer": "ipython3",
   "version": "3.7.7"
  }
 },
 "nbformat": 4,
 "nbformat_minor": 4
}
